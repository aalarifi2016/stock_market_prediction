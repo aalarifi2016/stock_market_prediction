{
 "cells": [
  {
   "cell_type": "code",
   "execution_count": 1,
   "metadata": {},
   "outputs": [
    {
     "ename": "ModuleNotFoundError",
     "evalue": "No module named 'fbprophet'",
     "output_type": "error",
     "traceback": [
      "\u001b[1;31m---------------------------------------------------------------------------\u001b[0m",
      "\u001b[1;31mModuleNotFoundError\u001b[0m                       Traceback (most recent call last)",
      "\u001b[1;32m<ipython-input-1-586361da4464>\u001b[0m in \u001b[0;36m<module>\u001b[1;34m\u001b[0m\n\u001b[0;32m      9\u001b[0m \u001b[1;32mimport\u001b[0m \u001b[0mpandas\u001b[0m \u001b[1;32mas\u001b[0m \u001b[0mpd\u001b[0m\u001b[1;33m\u001b[0m\u001b[1;33m\u001b[0m\u001b[0m\n\u001b[0;32m     10\u001b[0m \u001b[1;32mfrom\u001b[0m \u001b[0msklearn\u001b[0m\u001b[1;33m.\u001b[0m\u001b[0mlinear_model\u001b[0m \u001b[1;32mimport\u001b[0m \u001b[0mLinearRegression\u001b[0m\u001b[1;33m\u001b[0m\u001b[1;33m\u001b[0m\u001b[0m\n\u001b[1;32m---> 11\u001b[1;33m \u001b[1;32mfrom\u001b[0m \u001b[0mfbprophet\u001b[0m \u001b[1;32mimport\u001b[0m \u001b[0mProphet\u001b[0m\u001b[1;33m\u001b[0m\u001b[1;33m\u001b[0m\u001b[0m\n\u001b[0m\u001b[0;32m     12\u001b[0m \u001b[1;32mimport\u001b[0m \u001b[0mnumpy\u001b[0m \u001b[1;32mas\u001b[0m \u001b[0mnp\u001b[0m\u001b[1;33m\u001b[0m\u001b[1;33m\u001b[0m\u001b[0m\n\u001b[0;32m     13\u001b[0m \u001b[1;32mimport\u001b[0m \u001b[0mmatplotlib\u001b[0m\u001b[1;33m.\u001b[0m\u001b[0mpyplot\u001b[0m \u001b[1;32mas\u001b[0m \u001b[0mplt\u001b[0m\u001b[1;33m\u001b[0m\u001b[1;33m\u001b[0m\u001b[0m\n",
      "\u001b[1;31mModuleNotFoundError\u001b[0m: No module named 'fbprophet'"
     ]
    }
   ],
   "source": [
    "import sys\n",
    "from sklearn.feature_extraction.text import TfidfVectorizer\n",
    "from sklearn.svm import LinearSVC\n",
    "from sklearn.pipeline import Pipeline\n",
    "from sklearn.model_selection import GridSearchCV\n",
    "from sklearn.datasets import load_files\n",
    "from sklearn.model_selection import train_test_split\n",
    "from sklearn import metrics\n",
    "import pandas as pd\n",
    "from sklearn.linear_model import LinearRegression\n",
    "from fbprophet import Prophet\n",
    "import numpy as np\n",
    "import matplotlib.pyplot as plt"
   ]
  },
  {
   "cell_type": "code",
   "execution_count": null,
   "metadata": {},
   "outputs": [],
   "source": [
    "## load the data and get all information for one company ##\n",
    "data_set = pd.read_csv('../csv_data/reuters_news.csv', low_memory=False)\n",
    "data_set = data_set.loc[data_set['ticker'] == 'AAPL']\n",
    "\n",
    "## Data preperation ##\n",
    "\n",
    "# delete missing prices data\n",
    "data_set = data_set[data_set['prices'].notna()]\n",
    "data_set = data_set[data_set['polarity'].notna()]\n",
    "data_set = data_set[data_set['subjectivity'].notna()]\n",
    "\n",
    "# delete unneeded columns: 'title' & 'description'\n",
    "data_set.drop(['ticker', 'title', 'description'], axis=1, inplace=True)\n",
    "\n",
    "# convert \"Nan\" values to 0 (when there is no news in a specific day, \n",
    "# the polarity and subjectivity would be 0 or nutural)\n",
    "data_set['polarity'] = data_set['polarity'].fillna(0)\n",
    "data_set['subjectivity'] = data_set['subjectivity'].fillna(0)\n",
    "\n",
    "#  combine rows with the same date (some days have multipe news, so, compine them and take the average)\n",
    "data_set = data_set.groupby(['date'],as_index=False).agg({'polarity': 'mean', 'subjectivity': 'mean', 'prices': 'mean',})\n",
    "\n",
    "# print\n",
    "data_set\n"
   ]
  },
  {
   "cell_type": "code",
   "execution_count": null,
   "metadata": {},
   "outputs": [],
   "source": [
    "########### facebook PROPHET model ###############\n",
    "## Docs: https://facebook.github.io/prophet/docs/quick_start.html \n",
    "\n",
    "prophet = data_set\n",
    "prophet.head()\n",
    "\n",
    "#train model\n",
    "m = Prophet(interval_width=0.95, daily_seasonality=True)\n",
    "m.add_regressor('polarity')\n",
    "m.add_regressor('subjectivity')\n",
    "prophet = prophet.rename(columns={'date':'ds', 'prices': 'y'})\n",
    "model = m.fit(prophet)\n",
    "#forcast\n",
    "future = m.make_future_dataframe(periods=100,freq='D')\n",
    "future['polarity'] = prophet['polarity']    # not sure if this right\n",
    "future['subjectivity'] = prophet['subjectivity']    # not sure if this right\n",
    "future = future.dropna()\n",
    "forecast = m.predict(future)\n",
    "# forecast.head()\n",
    "\n",
    "# plot\n",
    "plot1 = m.plot(forecast)\n",
    "plt2 = m.plot_components(forecast)"
   ]
  },
  {
   "cell_type": "code",
   "execution_count": null,
   "metadata": {},
   "outputs": [],
   "source": [
    "# Vector Auto Regression VAR\n",
    "# example: https://www.machinelearningplus.com/time-series/vector-autoregression-examples-python/ \n",
    "\n",
    "from statsmodels.tsa.api import VAR\n",
    "from statsmodels.tsa.stattools import adfuller\n",
    "from statsmodels.tools.eval_measures import rmse, aic\n",
    "\n",
    "# Plot\n",
    "fig, axes = plt.subplots(nrows=2, ncols=2, dpi=120, figsize=(10,6))\n",
    "for i, ax in enumerate(axes.flatten()):\n",
    "    data = data_set[data_set.columns[i]]\n",
    "    ax.plot(data, color='red', linewidth=1)\n",
    "    # Decorations\n",
    "    ax.set_title(data_set.columns[i])\n",
    "    ax.xaxis.set_ticks_position('none')\n",
    "    ax.yaxis.set_ticks_position('none')\n",
    "    ax.spines[\"top\"].set_alpha(0)\n",
    "    ax.tick_params(labelsize=6)\n",
    "\n",
    "plt.tight_layout()\n",
    "\n",
    "# split the data\n",
    "nobs = int(data_set.shape[0] * 0.2)\n",
    "df_train, df_test = data_set[0:-nobs], data_set[-nobs:]\n",
    "\n",
    "# Check size\n",
    "print(df_train.shape)  \n",
    "print(df_test.shape)  \n",
    "\n",
    "# NOTE: needs to be completed "
   ]
  },
  {
   "cell_type": "code",
   "execution_count": null,
   "metadata": {},
   "outputs": [],
   "source": [
    "## LSTM model ##\n",
    "# example: https://www.relataly.com/stock-market-prediction-using-multivariate-time-series-in-python/1815/ \n",
    "# another example: https://analyticsindiamag.com/how-to-do-multivariate-time-series-forecasting-using-lstm/ \n",
    "\n",
    "\n"
   ]
  }
 ],
 "metadata": {
  "interpreter": {
   "hash": "6c36f4893f7c0c4072d1138246e59bbc210ff156fe9aa9c763fe8be9739db44f"
  },
  "kernelspec": {
   "display_name": "Python 3",
   "language": "python",
   "name": "python3"
  },
  "language_info": {
   "codemirror_mode": {
    "name": "ipython",
    "version": 3
   },
   "file_extension": ".py",
   "mimetype": "text/x-python",
   "name": "python",
   "nbconvert_exporter": "python",
   "pygments_lexer": "ipython3",
   "version": "3.8.8"
  }
 },
 "nbformat": 4,
 "nbformat_minor": 2
}
